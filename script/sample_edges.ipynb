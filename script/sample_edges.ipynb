{
 "cells": [
  {
   "cell_type": "code",
   "execution_count": null,
   "metadata": {},
   "outputs": [],
   "source": [
    "# imports and settings\n",
    "%load_ext autoreload\n",
    "%autoreload 2\n",
    "\n",
    "r = 0.35\n",
    "M = 25\n",
    "dist_weight = False\n",
    "add_nei = True"
   ]
  },
  {
   "cell_type": "code",
   "execution_count": null,
   "metadata": {},
   "outputs": [],
   "source": [
    "import subprocess\n",
    "\n",
    "mesh_size_start = 15\n",
    "mesh_size_end = 35\n",
    "\n",
    "exe_path = '/Users/cw1722/Documents/warpmesh/warpmesh/loader/data_transform.py'\n",
    "\n",
    "data_type = [\n",
    "    'iso_pad',\n",
    "    'iso_full',\n",
    "    'aniso_pad',\n",
    "    'aniso_full',\n",
    "]\n",
    "\n",
    "# process validation data\n",
    "for dt in data_type:\n",
    "    for i in range(mesh_size_start, mesh_size_end + 1):\n",
    "        print(i)\n",
    "        data_root = f'/Users/cw1722/Documents/warpmesh/data/dataset/helmholtz/z=<0,1>_ndist=None_max_dist=6_<{i}x{i}>_n=100_{dt}'  # noqa\n",
    "        subprocess.run(\n",
    "            [\n",
    "                \"python\", exe_path,\n",
    "                \"--target=\" + data_root,\n",
    "                \"--r=\" + str(r),\n",
    "                \"--M=\" + str(M),\n",
    "                # \"--dist_weight=\" + str(dist_weight),\n",
    "                \"--add_nei=\" + str(add_nei),\n",
    "            ],check=True)\n",
    "\n",
    "# process training data\n",
    "mesh_size_start = 15\n",
    "mesh_size_end = 20\n",
    "data_type = [\n",
    "    'iso_pad',\n",
    "    'aniso_full',\n",
    "]\n",
    "\n",
    "for dt in data_type:\n",
    "    for i in range(mesh_size_start, mesh_size_end + 1, 5):\n",
    "        data_root = f'/Users/cw1722/Documents/warpmesh/data/dataset/helmholtz/z=<0,1>_ndist=None_max_dist=6_<{i}x{i}>_n=400_{dt}'  # noqa\n",
    "        subprocess.run(\n",
    "            [\n",
    "                \"python\", exe_path,\n",
    "                \"--target=\" + data_root,\n",
    "                \"--r=\" + str(r),\n",
    "                \"--M=\" + str(M),\n",
    "                # \"--dist_weight=\" + str(dist_weight),\n",
    "                \"--add_nei=\" + str(add_nei),\n",
    "            ],check=True)\n"
   ]
  }
 ],
 "metadata": {
  "kernelspec": {
   "display_name": "Python 3 (ipykernel)",
   "language": "python",
   "name": "python3"
  },
  "language_info": {
   "codemirror_mode": {
    "name": "ipython",
    "version": 3
   },
   "file_extension": ".py",
   "mimetype": "text/x-python",
   "name": "python",
   "nbconvert_exporter": "python",
   "pygments_lexer": "ipython3",
   "version": "3.10.12"
  }
 },
 "nbformat": 4,
 "nbformat_minor": 4
}
