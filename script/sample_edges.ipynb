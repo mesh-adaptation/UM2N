{
 "cells": [
  {
   "cell_type": "code",
   "execution_count": 8,
   "metadata": {},
   "outputs": [
    {
     "name": "stderr",
     "output_type": "stream",
     "text": [
      "Python(46840) MallocStackLogging: can't turn off malloc stack logging because it was not enabled.\n"
     ]
    },
    {
     "name": "stdout",
     "output_type": "stream",
     "text": [
      "Processing the dataset...\n",
      "Namespace(target='/Users/cw1722/Documents/warpmesh/data/dataset/helmholtz/z=<0,1>_ndist=None_max_dist=6_<31x31>_n=100_aniso_full', r=0.2)\n",
      "processing 100 files in/Users/cw1722/Documents/warpmesh/data/dataset/helmholtz/z=<0,1>_ndist=None_max_dist=6_<31x31>_n=100_aniso_full/data\n",
      "processing 15 files in/Users/cw1722/Documents/warpmesh/data/dataset/helmholtz/z=<0,1>_ndist=None_max_dist=6_<31x31>_n=100_aniso_full/test\n",
      "processing 75 files in/Users/cw1722/Documents/warpmesh/data/dataset/helmholtz/z=<0,1>_ndist=None_max_dist=6_<31x31>_n=100_aniso_full/train\n",
      "processing 10 files in/Users/cw1722/Documents/warpmesh/data/dataset/helmholtz/z=<0,1>_ndist=None_max_dist=6_<31x31>_n=100_aniso_full/val\n"
     ]
    },
    {
     "name": "stderr",
     "output_type": "stream",
     "text": [
      "Python(46956) MallocStackLogging: can't turn off malloc stack logging because it was not enabled.\n"
     ]
    },
    {
     "name": "stdout",
     "output_type": "stream",
     "text": [
      "Processing the dataset...\n",
      "Namespace(target='/Users/cw1722/Documents/warpmesh/data/dataset/helmholtz/z=<0,1>_ndist=None_max_dist=6_<32x32>_n=100_aniso_full', r=0.2)\n",
      "processing 100 files in/Users/cw1722/Documents/warpmesh/data/dataset/helmholtz/z=<0,1>_ndist=None_max_dist=6_<32x32>_n=100_aniso_full/data\n",
      "processing 15 files in/Users/cw1722/Documents/warpmesh/data/dataset/helmholtz/z=<0,1>_ndist=None_max_dist=6_<32x32>_n=100_aniso_full/test\n",
      "processing 75 files in/Users/cw1722/Documents/warpmesh/data/dataset/helmholtz/z=<0,1>_ndist=None_max_dist=6_<32x32>_n=100_aniso_full/train\n",
      "processing 10 files in/Users/cw1722/Documents/warpmesh/data/dataset/helmholtz/z=<0,1>_ndist=None_max_dist=6_<32x32>_n=100_aniso_full/val\n"
     ]
    },
    {
     "name": "stderr",
     "output_type": "stream",
     "text": [
      "Python(47170) MallocStackLogging: can't turn off malloc stack logging because it was not enabled.\n"
     ]
    },
    {
     "name": "stdout",
     "output_type": "stream",
     "text": [
      "Processing the dataset...\n",
      "Namespace(target='/Users/cw1722/Documents/warpmesh/data/dataset/helmholtz/z=<0,1>_ndist=None_max_dist=6_<33x33>_n=100_aniso_full', r=0.2)\n",
      "processing 100 files in/Users/cw1722/Documents/warpmesh/data/dataset/helmholtz/z=<0,1>_ndist=None_max_dist=6_<33x33>_n=100_aniso_full/data\n",
      "processing 15 files in/Users/cw1722/Documents/warpmesh/data/dataset/helmholtz/z=<0,1>_ndist=None_max_dist=6_<33x33>_n=100_aniso_full/test\n",
      "processing 75 files in/Users/cw1722/Documents/warpmesh/data/dataset/helmholtz/z=<0,1>_ndist=None_max_dist=6_<33x33>_n=100_aniso_full/train\n",
      "processing 10 files in/Users/cw1722/Documents/warpmesh/data/dataset/helmholtz/z=<0,1>_ndist=None_max_dist=6_<33x33>_n=100_aniso_full/val\n"
     ]
    },
    {
     "name": "stderr",
     "output_type": "stream",
     "text": [
      "Python(47380) MallocStackLogging: can't turn off malloc stack logging because it was not enabled.\n"
     ]
    },
    {
     "name": "stdout",
     "output_type": "stream",
     "text": [
      "Processing the dataset...\n",
      "Namespace(target='/Users/cw1722/Documents/warpmesh/data/dataset/helmholtz/z=<0,1>_ndist=None_max_dist=6_<34x34>_n=100_aniso_full', r=0.2)\n",
      "processing 100 files in/Users/cw1722/Documents/warpmesh/data/dataset/helmholtz/z=<0,1>_ndist=None_max_dist=6_<34x34>_n=100_aniso_full/data\n",
      "processing 15 files in/Users/cw1722/Documents/warpmesh/data/dataset/helmholtz/z=<0,1>_ndist=None_max_dist=6_<34x34>_n=100_aniso_full/test\n",
      "processing 75 files in/Users/cw1722/Documents/warpmesh/data/dataset/helmholtz/z=<0,1>_ndist=None_max_dist=6_<34x34>_n=100_aniso_full/train\n",
      "processing 10 files in/Users/cw1722/Documents/warpmesh/data/dataset/helmholtz/z=<0,1>_ndist=None_max_dist=6_<34x34>_n=100_aniso_full/val\n"
     ]
    },
    {
     "name": "stderr",
     "output_type": "stream",
     "text": [
      "Python(47677) MallocStackLogging: can't turn off malloc stack logging because it was not enabled.\n"
     ]
    },
    {
     "name": "stdout",
     "output_type": "stream",
     "text": [
      "Processing the dataset...\n",
      "Namespace(target='/Users/cw1722/Documents/warpmesh/data/dataset/helmholtz/z=<0,1>_ndist=None_max_dist=6_<35x35>_n=100_aniso_full', r=0.2)\n",
      "processing 100 files in/Users/cw1722/Documents/warpmesh/data/dataset/helmholtz/z=<0,1>_ndist=None_max_dist=6_<35x35>_n=100_aniso_full/data\n",
      "processing 15 files in/Users/cw1722/Documents/warpmesh/data/dataset/helmholtz/z=<0,1>_ndist=None_max_dist=6_<35x35>_n=100_aniso_full/test\n",
      "processing 75 files in/Users/cw1722/Documents/warpmesh/data/dataset/helmholtz/z=<0,1>_ndist=None_max_dist=6_<35x35>_n=100_aniso_full/train\n",
      "processing 10 files in/Users/cw1722/Documents/warpmesh/data/dataset/helmholtz/z=<0,1>_ndist=None_max_dist=6_<35x35>_n=100_aniso_full/val\n"
     ]
    }
   ],
   "source": [
    "import subprocess\n",
    "r = 0.2\n",
    "\n",
    "mesh_size_start = 15\n",
    "mesh_size_end = 35\n",
    "\n",
    "exe_path = '/Users/cw1722/Documents/warpmesh/warpmesh/loader/data_transform.py'\n",
    "\n",
    "data_type = [\n",
    "    'iso_pad',\n",
    "    'iso_full',\n",
    "    'aniso_pad',\n",
    "    'aniso_full',\n",
    "]\n",
    "\n",
    "# process validation data\n",
    "for dt in data_type:\n",
    "    for i in range(mesh_size_start, mesh_size_end + 1):\n",
    "        data_root = f'/Users/cw1722/Documents/warpmesh/data/dataset/helmholtz/z=<0,1>_ndist=None_max_dist=6_<{i}x{i}>_n=100_{dt}'  # noqa\n",
    "        subprocess.run([\"python\", exe_path, \"--target=\" + data_root, \"--r=\" + str(r)], check=True)\n",
    "\n"
   ]
  },
  {
   "cell_type": "code",
   "execution_count": 10,
   "metadata": {},
   "outputs": [
    {
     "name": "stderr",
     "output_type": "stream",
     "text": [
      "Python(50816) MallocStackLogging: can't turn off malloc stack logging because it was not enabled.\n"
     ]
    },
    {
     "name": "stdout",
     "output_type": "stream",
     "text": [
      "Processing the dataset...\n",
      "Namespace(target='/Users/cw1722/Documents/warpmesh/data/dataset/helmholtz/z=<0,1>_ndist=None_max_dist=6_<15x15>_n=400_iso_pad', r=0.2)\n",
      "processing 400 files in/Users/cw1722/Documents/warpmesh/data/dataset/helmholtz/z=<0,1>_ndist=None_max_dist=6_<15x15>_n=400_iso_pad/data\n",
      "processing 60 files in/Users/cw1722/Documents/warpmesh/data/dataset/helmholtz/z=<0,1>_ndist=None_max_dist=6_<15x15>_n=400_iso_pad/test\n",
      "processing 300 files in/Users/cw1722/Documents/warpmesh/data/dataset/helmholtz/z=<0,1>_ndist=None_max_dist=6_<15x15>_n=400_iso_pad/train\n",
      "processing 40 files in/Users/cw1722/Documents/warpmesh/data/dataset/helmholtz/z=<0,1>_ndist=None_max_dist=6_<15x15>_n=400_iso_pad/val\n"
     ]
    },
    {
     "name": "stderr",
     "output_type": "stream",
     "text": [
      "Python(50879) MallocStackLogging: can't turn off malloc stack logging because it was not enabled.\n"
     ]
    },
    {
     "name": "stdout",
     "output_type": "stream",
     "text": [
      "Processing the dataset...\n",
      "Namespace(target='/Users/cw1722/Documents/warpmesh/data/dataset/helmholtz/z=<0,1>_ndist=None_max_dist=6_<20x20>_n=400_iso_pad', r=0.2)\n",
      "processing 400 files in/Users/cw1722/Documents/warpmesh/data/dataset/helmholtz/z=<0,1>_ndist=None_max_dist=6_<20x20>_n=400_iso_pad/data\n",
      "processing 60 files in/Users/cw1722/Documents/warpmesh/data/dataset/helmholtz/z=<0,1>_ndist=None_max_dist=6_<20x20>_n=400_iso_pad/test\n",
      "processing 300 files in/Users/cw1722/Documents/warpmesh/data/dataset/helmholtz/z=<0,1>_ndist=None_max_dist=6_<20x20>_n=400_iso_pad/train\n",
      "processing 40 files in/Users/cw1722/Documents/warpmesh/data/dataset/helmholtz/z=<0,1>_ndist=None_max_dist=6_<20x20>_n=400_iso_pad/val\n"
     ]
    },
    {
     "name": "stderr",
     "output_type": "stream",
     "text": [
      "Python(51044) MallocStackLogging: can't turn off malloc stack logging because it was not enabled.\n"
     ]
    },
    {
     "name": "stdout",
     "output_type": "stream",
     "text": [
      "Processing the dataset...\n",
      "Namespace(target='/Users/cw1722/Documents/warpmesh/data/dataset/helmholtz/z=<0,1>_ndist=None_max_dist=6_<15x15>_n=400_aniso_full', r=0.2)\n",
      "processing 400 files in/Users/cw1722/Documents/warpmesh/data/dataset/helmholtz/z=<0,1>_ndist=None_max_dist=6_<15x15>_n=400_aniso_full/data\n",
      "processing 60 files in/Users/cw1722/Documents/warpmesh/data/dataset/helmholtz/z=<0,1>_ndist=None_max_dist=6_<15x15>_n=400_aniso_full/test\n",
      "processing 300 files in/Users/cw1722/Documents/warpmesh/data/dataset/helmholtz/z=<0,1>_ndist=None_max_dist=6_<15x15>_n=400_aniso_full/train\n",
      "processing 40 files in/Users/cw1722/Documents/warpmesh/data/dataset/helmholtz/z=<0,1>_ndist=None_max_dist=6_<15x15>_n=400_aniso_full/val\n"
     ]
    },
    {
     "name": "stderr",
     "output_type": "stream",
     "text": [
      "Python(51181) MallocStackLogging: can't turn off malloc stack logging because it was not enabled.\n"
     ]
    },
    {
     "name": "stdout",
     "output_type": "stream",
     "text": [
      "Processing the dataset...\n",
      "Namespace(target='/Users/cw1722/Documents/warpmesh/data/dataset/helmholtz/z=<0,1>_ndist=None_max_dist=6_<20x20>_n=400_aniso_full', r=0.2)\n",
      "processing 400 files in/Users/cw1722/Documents/warpmesh/data/dataset/helmholtz/z=<0,1>_ndist=None_max_dist=6_<20x20>_n=400_aniso_full/data\n",
      "processing 60 files in/Users/cw1722/Documents/warpmesh/data/dataset/helmholtz/z=<0,1>_ndist=None_max_dist=6_<20x20>_n=400_aniso_full/test\n",
      "processing 300 files in/Users/cw1722/Documents/warpmesh/data/dataset/helmholtz/z=<0,1>_ndist=None_max_dist=6_<20x20>_n=400_aniso_full/train\n",
      "processing 40 files in/Users/cw1722/Documents/warpmesh/data/dataset/helmholtz/z=<0,1>_ndist=None_max_dist=6_<20x20>_n=400_aniso_full/val\n"
     ]
    }
   ],
   "source": [
    "mesh_size_start = 15\n",
    "mesh_size_end = 20\n",
    "\n",
    "data_type = [\n",
    "    'iso_pad',\n",
    "    'aniso_full',\n",
    "]\n",
    "\n",
    "# process validation data\n",
    "for dt in data_type:\n",
    "    for i in range(mesh_size_start, mesh_size_end + 1, 5):\n",
    "        data_root = f'/Users/cw1722/Documents/warpmesh/data/dataset/helmholtz/z=<0,1>_ndist=None_max_dist=6_<{i}x{i}>_n=400_{dt}'  # noqa\n",
    "        subprocess.run([\"python\", exe_path, \"--target=\" + data_root, \"--r=\" + str(r)], check=True)"
   ]
  },
  {
   "cell_type": "code",
   "execution_count": null,
   "metadata": {},
   "outputs": [],
   "source": []
  }
 ],
 "metadata": {
  "kernelspec": {
   "display_name": "firedrake",
   "language": "python",
   "name": "python3"
  },
  "language_info": {
   "codemirror_mode": {
    "name": "ipython",
    "version": 3
   },
   "file_extension": ".py",
   "mimetype": "text/x-python",
   "name": "python",
   "nbconvert_exporter": "python",
   "pygments_lexer": "ipython3",
   "version": "3.11.4"
  }
 },
 "nbformat": 4,
 "nbformat_minor": 2
}
